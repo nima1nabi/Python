{
 "cells": [
  {
   "cell_type": "code",
   "execution_count": 38,
   "metadata": {
    "collapsed": true,
    "pycharm": {
     "name": "#%%\n"
    }
   },
   "outputs": [
    {
     "name": "stdout",
     "output_type": "stream",
     "text": [
      "\\\\npo.amr.corp.intel.com\\coos\\LNO_Validation\\Validation_Data\\_data\\ATS 2.0\\Dayton Peak\\N10355-002\\0\\016140\\9256\\Tests\\Scope\\22\\CH5.bin  File Size => 106\n",
      "\\\\npo.amr.corp.intel.com\\coos\\LNO_Validation\\Validation_Data\\_data\\ATS 2.0\\Dayton Peak\\N10355-002\\0\\016140\\9292\\Tests\\Scope\\4\\CH2.bin  File Size => 106\n",
      "\\\\npo.amr.corp.intel.com\\coos\\LNO_Validation\\Validation_Data\\_data\\ATS 2.0\\Dayton Peak\\N10355-002\\0\\016140\\9328\\Tests\\Scope\\1\\CH1.bin  File Size => 165\n",
      "\\\\npo.amr.corp.intel.com\\coos\\LNO_Validation\\Validation_Data\\_data\\ATS 2.0\\Dayton Peak\\N10355-002\\0\\016140\\9328\\Tests\\Scope\\1\\CH2.bin  File Size => 165\n",
      "\\\\npo.amr.corp.intel.com\\coos\\LNO_Validation\\Validation_Data\\_data\\ATS 2.0\\Dayton Peak\\N10355-002\\0\\016140\\9328\\Tests\\Scope\\1\\CH3.bin  File Size => 165\n",
      "\\\\npo.amr.corp.intel.com\\coos\\LNO_Validation\\Validation_Data\\_data\\ATS 2.0\\Dayton Peak\\N10355-002\\0\\016140\\9328\\Tests\\Scope\\1\\CH4.bin  File Size => 166\n",
      "\\\\npo.amr.corp.intel.com\\coos\\LNO_Validation\\Validation_Data\\_data\\ATS 2.0\\Dayton Peak\\N10355-002\\0\\016140\\9328\\Tests\\Scope\\1\\CH5.bin  File Size => 165\n",
      "\\\\npo.amr.corp.intel.com\\coos\\LNO_Validation\\Validation_Data\\_data\\ATS 2.0\\Dayton Peak\\N10355-002\\0\\016140\\9328\\Tests\\Scope\\1\\CH6.bin  File Size => 165\n",
      "\\\\npo.amr.corp.intel.com\\coos\\LNO_Validation\\Validation_Data\\_data\\ATS 2.0\\Dayton Peak\\N10355-002\\0\\016140\\9328\\Tests\\Scope\\1\\CH7.bin  File Size => 164\n",
      "\\\\npo.amr.corp.intel.com\\coos\\LNO_Validation\\Validation_Data\\_data\\ATS 2.0\\Dayton Peak\\N10355-002\\0\\016140\\9328\\Tests\\Scope\\1\\CH8.bin  File Size => 166\n",
      "Execution time: 30.652539014816284 seconds\n"
     ]
    }
   ],
   "source": [
    "from pathlib import Path\n",
    "import timeit\n",
    "\n",
    "def find_small_bin_files(directory):\n",
    "    reference_path = Path(directory)\n",
    "    all_bin_files = reference_path.glob('**/*.bin')\n",
    "    bad_bin_files = [file for file in all_bin_files if file.stat().st_size < 1024]\n",
    "    return bad_bin_files\n",
    "\n",
    "if __name__ == \"__main__\":\n",
    "    directory_path = r'\\\\N10355-002\\0\\016140'\n",
    "\n",
    "    # Record start time\n",
    "    start_time = time.time()\n",
    "\n",
    "    for file in find_small_bin_files(directory_path):\n",
    "        print(f'{file}  File Size => {file.stat().st_size}')\n",
    "\n",
    "    # Record end time\n",
    "    end_time = time.time()\n",
    "\n",
    "    execution_time = end_time - start_time\n",
    "    print(f\"Execution time: {execution_time} seconds\")\n"
   ]
  },
  {
   "cell_type": "code",
   "execution_count": 33,
   "outputs": [
    {
     "name": "stdout",
     "output_type": "stream",
     "text": [
      "\\\\npo.amr.corp.intel.com\\coos\\LNO_Validation\\Validation_Data\\_data\\ATS 2.0\\Dayton Peak\\N10355-002\\0\\016140\\9256\\Tests\\Scope\\22\\CH5.bin  File Size => 106\n",
      "\\\\npo.amr.corp.intel.com\\coos\\LNO_Validation\\Validation_Data\\_data\\ATS 2.0\\Dayton Peak\\N10355-002\\0\\016140\\9292\\Tests\\Scope\\4\\CH2.bin  File Size => 106\n",
      "\\\\npo.amr.corp.intel.com\\coos\\LNO_Validation\\Validation_Data\\_data\\ATS 2.0\\Dayton Peak\\N10355-002\\0\\016140\\9328\\Tests\\Scope\\1\\CH1.bin  File Size => 165\n",
      "\\\\npo.amr.corp.intel.com\\coos\\LNO_Validation\\Validation_Data\\_data\\ATS 2.0\\Dayton Peak\\N10355-002\\0\\016140\\9328\\Tests\\Scope\\1\\CH2.bin  File Size => 165\n",
      "\\\\npo.amr.corp.intel.com\\coos\\LNO_Validation\\Validation_Data\\_data\\ATS 2.0\\Dayton Peak\\N10355-002\\0\\016140\\9328\\Tests\\Scope\\1\\CH3.bin  File Size => 165\n",
      "\\\\npo.amr.corp.intel.com\\coos\\LNO_Validation\\Validation_Data\\_data\\ATS 2.0\\Dayton Peak\\N10355-002\\0\\016140\\9328\\Tests\\Scope\\1\\CH4.bin  File Size => 166\n",
      "\\\\npo.amr.corp.intel.com\\coos\\LNO_Validation\\Validation_Data\\_data\\ATS 2.0\\Dayton Peak\\N10355-002\\0\\016140\\9328\\Tests\\Scope\\1\\CH5.bin  File Size => 165\n",
      "\\\\npo.amr.corp.intel.com\\coos\\LNO_Validation\\Validation_Data\\_data\\ATS 2.0\\Dayton Peak\\N10355-002\\0\\016140\\9328\\Tests\\Scope\\1\\CH6.bin  File Size => 165\n",
      "\\\\npo.amr.corp.intel.com\\coos\\LNO_Validation\\Validation_Data\\_data\\ATS 2.0\\Dayton Peak\\N10355-002\\0\\016140\\9328\\Tests\\Scope\\1\\CH7.bin  File Size => 164\n",
      "\\\\npo.amr.corp.intel.com\\coos\\LNO_Validation\\Validation_Data\\_data\\ATS 2.0\\Dayton Peak\\N10355-002\\0\\016140\\9328\\Tests\\Scope\\1\\CH8.bin  File Size => 166\n",
      "Execution time: 28.478881359100342 seconds\n"
     ]
    }
   ],
   "source": [
    "import os\n",
    "import time\n",
    "\n",
    "reference_path = r'\\\\N10355-002\\0\\016140'\n",
    "\n",
    "def find_small_bin_files(directory):\n",
    "    for root, dirs, files in os.walk(directory):\n",
    "        for file in files:\n",
    "            if file.endswith('.bin'):\n",
    "                file_path = os.path.join(root, file)\n",
    "                file_size = os.path.getsize(file_path)\n",
    "                if file_size < 1024:\n",
    "                    yield file_path, file_size\n",
    "\n",
    "if __name__ == \"__main__\":\n",
    "    start_time = time.time()  # Record start time\n",
    "\n",
    "    for file_path, file_size in find_small_bin_files(reference_path):\n",
    "        print(f'{file_path}  File Size => {file_size}')\n",
    "\n",
    "    end_time = time.time()  # Record end time\n",
    "\n",
    "    execution_time = end_time - start_time\n",
    "    print(f\"Execution time: {execution_time} seconds\")\n"
   ],
   "metadata": {
    "collapsed": false,
    "pycharm": {
     "name": "#%%\n"
    }
   }
  },
  {
   "cell_type": "code",
   "execution_count": 7,
   "outputs": [],
   "source": [],
   "metadata": {
    "collapsed": false,
    "pycharm": {
     "name": "#%%\n"
    }
   }
  },
  {
   "cell_type": "code",
   "execution_count": 7,
   "outputs": [],
   "source": [],
   "metadata": {
    "collapsed": false,
    "pycharm": {
     "name": "#%%\n"
    }
   }
  },
  {
   "cell_type": "code",
   "execution_count": 7,
   "outputs": [],
   "source": [],
   "metadata": {
    "collapsed": false,
    "pycharm": {
     "name": "#%%\n"
    }
   }
  },
  {
   "cell_type": "code",
   "execution_count": 15,
   "outputs": [],
   "source": [],
   "metadata": {
    "collapsed": false,
    "pycharm": {
     "name": "#%%\n"
    }
   }
  },
  {
   "cell_type": "code",
   "execution_count": 7,
   "outputs": [],
   "source": [],
   "metadata": {
    "collapsed": false,
    "pycharm": {
     "name": "#%%\n"
    }
   }
  },
  {
   "cell_type": "code",
   "execution_count": null,
   "outputs": [],
   "source": [],
   "metadata": {
    "collapsed": false,
    "pycharm": {
     "name": "#%%\n"
    }
   }
  }
 ],
 "metadata": {
  "kernelspec": {
   "display_name": "Python 3",
   "language": "python",
   "name": "python3"
  },
  "language_info": {
   "codemirror_mode": {
    "name": "ipython",
    "version": 2
   },
   "file_extension": ".py",
   "mimetype": "text/x-python",
   "name": "python",
   "nbconvert_exporter": "python",
   "pygments_lexer": "ipython2",
   "version": "2.7.6"
  }
 },
 "nbformat": 4,
 "nbformat_minor": 0
}